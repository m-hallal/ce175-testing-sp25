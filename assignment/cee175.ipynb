{
 "cells": [
  {
   "cell_type": "code",
   "execution_count": null,
   "id": "34726b9a",
   "metadata": {
    "deletable": false,
    "editable": false
   },
   "outputs": [],
   "source": [
    "# Initialize Otter\n",
    "import otter\n",
    "grader = otter.Notebook(\"cee175.ipynb\")"
   ]
  },
  {
   "cell_type": "markdown",
   "id": "c0a44f42-4c7b-4573-bb1b-bd023c684fda",
   "metadata": {},
   "source": [
    "# CEE 175: Geotechnical and Geoenvironmental Engineering\n",
    "\n",
    "> **Mohamad M. Hallal, PhD** <br> Teaching Professor, UC Berkeley\n",
    "\n",
    "[![License](https://img.shields.io/badge/license-CC%20BY--NC--ND%204.0-blue)](https://creativecommons.org/licenses/by-nc-nd/4.0/)\n",
    "***"
   ]
  },
  {
   "cell_type": "markdown",
   "id": "4ca8202f-c249-4ae8-8112-eb2cefe954a2",
   "metadata": {},
   "source": [
    "## About this Assignment\n",
    "\n",
    "The objective of this assignment is to write a Python function that automatically determines the soil classification according to ASTM/USCS standards. You will create several intermediate functions that will ultimately be combined into a single function that outputs the soil classification.\n",
    "\n",
    "## Instructions\n",
    "\n",
    "**Run the first cell, Initialize Otter**, to import the autograder and submission exporter.\n",
    "\n",
    "Throughout the assignment, replace `...` with your answers. We use `...` as a placeholder and these should be deleted and replaced with your answers.\n",
    "\n",
    "Any part listed as a \"<font color='red'>**Question**</font>\" should be answered to receive credit.\n",
    "\n",
    "**Please save your work after every question!**\n",
    "\n",
    "You must submit the assignment to Gradescope by the due date. You will submit the zip file produced by running the final cell of the assignment.\n",
    "\n",
    "**Run the cell below**, to import the required modules."
   ]
  },
  {
   "cell_type": "code",
   "execution_count": null,
   "id": "8f1f4881-d68f-4231-88d8-934e3d72e4cf",
   "metadata": {},
   "outputs": [],
   "source": [
    "# Please run this cell, and do not modify the contents\n",
    "\n",
    "import hashlib\n",
    "def get_hash(num):\n",
    "    \"\"\"Helper function for assessing correctness\"\"\"\n",
    "    return hashlib.md5(str(num).encode()).hexdigest()"
   ]
  },
  {
   "cell_type": "markdown",
   "id": "5f87a94e-e9d4-42a1-bdaf-04c4716bb141",
   "metadata": {},
   "source": [
    "## Autograding and Gradescope\n",
    "\n",
    "We will be using an automatic grader for this assignment. Each question will have an **Answer Cell** followed by a **Testing Cell**. You will put gradable code into the **Answer Cell** as instructed, and then test your code by executing the **Testing Cell**. The output of the testing cell will let you know whether you have a mistake in the Answer Cell. You can run the Testing Cell infinite times."
   ]
  },
  {
   "cell_type": "markdown",
   "id": "82ca9c81-c2fb-49bf-bf02-f609844c91b8",
   "metadata": {
    "deletable": false,
    "editable": false
   },
   "source": [
    "### Example Question\n",
    "\n",
    "You can run individual cells, a selection of cells, or all cells, and there are multiple ways to do so. To run individual cells, you can click on the cell and then:\n",
    "* From the Toolbar, click the Run icon `▶ Run`\n",
    "* From the keyboard, press <kbd>Shift</kbd>+<kbd>Enter</kbd>. This shortcut will run the selected cell and *go to the next cell or add a new code cell below if this is the last cell*.\n",
    "* From the keyboard, press <kbd>Ctrl</kbd>+<kbd>Enter</kbd> (<kbd>Cmd</kbd>+<kbd>Enter</kbd> for macOS). This shortcut will run the selected cell *without going to the next cell*.\n",
    "* From the Menu bar, click **Run**, then **Run Selected Cell** (there are other run options in the Run menu)\n",
    "\n",
    "You can run multiple cells from the Menu bar. Click **Run** from the Menu bar. You will see several options for running multiple cells:\n",
    "* **Run All Cells**: this will run **all cells** in the notebook\n",
    "* **Run All Above Selected Cell**: this will run **all cells above (but not including)** the selected cell\n",
    "* **Run All Selected Cell and All Below**: this will run **the selected cell and all cells below it**\n",
    "\n",
    "Now let's try a simple example. Given two variables, `m=1` and `n=2`, compute their sum and assign it to variable `o`. \n",
    "\n",
    "+ The correct solution to this exercise is to replace the `...` below with `m + n`.  Try that out, and confirm that the testing cell marks your answer as correct. \n",
    "+ Also try an *incorrect* answer, by replacing the `...` with `-2`. Notice what happens when you run the testing cell.\n",
    "\n",
    "It is important that you save your work regularly, preferably after answering each question. You can save your work by clicking on the Save icon from the Tool Bar &nbsp;<i class=\"fa fa-save\" style=\"font-size:16px;\"></i>&nbsp;. Failing to save your work may result in incomplete submissions and loss of points.\n",
    "\n",
    "#### Answer Cell:"
   ]
  },
  {
   "cell_type": "code",
   "execution_count": null,
   "id": "bb141d9a-c67e-492d-85f7-38e48ad54258",
   "metadata": {
    "tags": [
     "otter_answer_cell"
    ]
   },
   "outputs": [],
   "source": [
    "m = 1\n",
    "n = 2\n",
    "o = ..."
   ]
  },
  {
   "cell_type": "markdown",
   "id": "27024e7b-a1af-49f5-81cf-9c66253120bd",
   "metadata": {
    "deletable": false,
    "editable": false
   },
   "source": [
    "#### Testing Cell:"
   ]
  },
  {
   "cell_type": "code",
   "execution_count": null,
   "id": "8c2fa58f",
   "metadata": {
    "deletable": false,
    "editable": false
   },
   "outputs": [],
   "source": [
    "grader.check(\"q0\")"
   ]
  },
  {
   "cell_type": "markdown",
   "id": "d98be9d5-0a07-4dd6-a458-dcb5ff814fda",
   "metadata": {
    "deletable": false,
    "editable": false
   },
   "source": [
    "## Question 1: Plasticity Index \n",
    "\n",
    "In programming, a function is a block of code that performs a specific task. Similar to mathematical functions, Python functions take in data, perform on them a sequence of statements, and then return output(s).\n",
    "\n",
    "An example of a mathematical function is: $f(x)=4x^2+2x-1$\n",
    "\n",
    "In Python, a function that serves the same task looks like:\n",
    "\n",
    "```python\n",
    "def f(x):\n",
    "    return 4 * x ** 2 + 2 * x - 1\n",
    "```\n",
    "\n",
    "The most common way to define a new function in Python is using the keyword `def` (short for define), as shown below:\n",
    "\n",
    "```python\n",
    "def function_name(argument_1, argument_2, ...):\n",
    "    \n",
    "    # function_body\n",
    "    \n",
    "    return output_parameters\n",
    "```\n",
    "\n",
    "The syntax includes:\n",
    "1. Function header that begins with the keyword `def`, which is used to define a function\n",
    "2. `function_name`, which is the identifier chosen by the programmer (you)\n",
    "3. Input arguments `(argument_1, argument_2, ...)`, which are a comma-separated sequence of inputs that will be sent to the function \n",
    "4. `:` colon, which is used at the end of the function header, after the input arguments\n",
    "6. `function_body`, which is a sequence of code statements that the function will execute when called\n",
    "7. `return`, which will return (send back) the value(s) after the keyword to the calling statement\n",
    "\n",
    "<div class=\"alert alert-block alert-warning\"> <b>NOTE!</b> The code that belongs to a function should be indented, as shown above. Indentation is important as it is the only way Python knows which code belongs to the function. It is standard in Python to use four spaces (equivalent to a tab) for indenting. If the code block is not indented correctly, this will raise an error.</div>\n",
    "\n",
    "Let's begin my defining our first simple function. Write a function named `plasticity_index()` that calculates and returns the plasticity index (PI) of a soil. This function has the following input arguments:\n",
    "* `LL`, which is the liquid limit of the soil in %\n",
    "* `PL`, which is the plastic limit of the soil in %\n",
    "\n",
    "Please note that variable and function names in Python are case sensitive.\n",
    "\n",
    "After defining a function, and to use it, we need to **call** the function. To call a function, use its name followed by the values of the input arguments between parentheses: `function_name(argument_1, argument_2, ...)`. For the function that you will define, since the function is named `plasticity_index` and it takes two arguments, you can call it using the following syntax: `plasticity_index(30, 10)`. This will output the value 20, which is the plasticity index based on the given inputs.\n",
    "\n",
    "Test your `plasticity_index()` function to calculate the plasticity index of a soil with a liquid limit of 55% and a plastic limit of 25%. Assign the output to `q1`. Feel free to test it for any other inputs. Note that when calling the function, you should not include the units such as %. Only include the numeric value inside the parentheses."
   ]
  },
  {
   "cell_type": "code",
   "execution_count": null,
   "id": "3a6179c4-cc32-4f46-9537-794bf6e098d1",
   "metadata": {
    "tags": [
     "otter_answer_cell"
    ]
   },
   "outputs": [],
   "source": [
    "# ANSWER CELL\n",
    "# Only modify ...\n",
    "\n",
    "def plasticity_index(LL, PL):\n",
    "    PI = ...\n",
    "    return PI "
   ]
  },
  {
   "cell_type": "code",
   "execution_count": null,
   "id": "88e7fde1-e81b-4927-863b-56c6d3b54d7a",
   "metadata": {
    "tags": [
     "otter_answer_cell"
    ]
   },
   "outputs": [],
   "source": [
    "# TEST YOUR FUNCTION HERE\n",
    "\n",
    "q1 = ...\n",
    "\n",
    "# print result\n",
    "print(f'PI = {q1} %')"
   ]
  },
  {
   "cell_type": "code",
   "execution_count": null,
   "id": "da9aa53e",
   "metadata": {
    "deletable": false,
    "editable": false
   },
   "outputs": [],
   "source": [
    "grader.check(\"q1\")"
   ]
  },
  {
   "cell_type": "markdown",
   "id": "49db05a0-2903-4cb7-8cb6-a69305d6fffc",
   "metadata": {
    "deletable": false,
    "editable": false
   },
   "source": [
    "## Question 2: Coarse- or Fine-Grained?\n",
    "\n",
    "Functions in Python can be written to do much more than evaluate a mathematical equation. Next, we will write another simple function that tells us whether a soil is coarse- or fine-grained. To do so, we will utilize something known as **conditional statements**.\n",
    "\n",
    "Every day, we make decisions based on certain conditions. For example, **if** it is raining, I will bring an umbrella before going outside. Similarly, we want computer programs to perform different actions based on specific conditions. This can be achieved using **conditional statements**.\n",
    "\n",
    "For example, if we want to say something like *if this condition is true, do this, otherwise, do something else*, we can use the `if-else` syntax in Python:\n",
    "\n",
    "```python\n",
    "if condition:\n",
    "    # do code block 1\n",
    "else:\n",
    "    # do code block 2\n",
    "```\n",
    "\n",
    "Here's how it works:\n",
    "\n",
    "1. When Python encounters an if statement, it evaluates the specified condition.\n",
    "2. If the condition is `True`, Python executes code block 1.\n",
    "3. If the condition is `False`, Python skips code block 1 and proceeds to the else statement, executing code block 2.\n",
    "\n",
    "Here's a breakdown of the syntax:\n",
    "\n",
    "* The keyword `if` is followed by the condition, which is an expression that evaluates to either `True` or `False`.\n",
    "* A colon `:` follows the condition, indicating the start of the code block.\n",
    "* The code block, which will only be executed if the condition is `True`, follows the colon. This block can contain one or more lines of code.\n",
    "* The code block *must be indented*. Indentation is crucial because it indicates which code belongs to the if statement.\n",
    "* The keyword `else` is used to define an alternate code block that will execute only if the condition in the `if` statement evaluates to `False`.\n",
    "* Like the `if` statement, the `else` statement ends with a colon `:` to indicate the start of the alternate code block.\n",
    "* The code block associated with `else` must also be indented, just like the `if` block. This indentation ensures that Python knows which code belongs to the `else` statement.\n",
    " \n",
    "Write a function named `coarse()` that checks whether a soil is coarse- or fine-grained. This function has the following input argument:\n",
    "* `P200`, which is the percentage of soil passing through Sieve #200 (i.e., percent finer) by weight (or mass)\n",
    "\n",
    "Your function should return the integer `1` if the soil is coarse-grained and the integer `0` otherwise.\n",
    "\n",
    "Test your `coarse()` function to check if a soil with `P200` equal to 40% is coarse- or fine-grained. Assign the output to `q2`. Feel free to test it for any other inputs."
   ]
  },
  {
   "cell_type": "code",
   "execution_count": null,
   "id": "2c3bf7ea-e0bd-4432-a8f6-f39bea29e9a5",
   "metadata": {
    "tags": [
     "otter_answer_cell"
    ]
   },
   "outputs": [],
   "source": [
    "# ANSWER CELL\n",
    "\n",
    "def coarse(P200):\n",
    "\n",
    "    if ...:\n",
    "        return ...\n",
    "    else:\n",
    "        return ..."
   ]
  },
  {
   "cell_type": "code",
   "execution_count": null,
   "id": "3809814f-bee2-4839-9d1a-eabc664c13cc",
   "metadata": {
    "tags": [
     "otter_answer_cell"
    ]
   },
   "outputs": [],
   "source": [
    "# TEST YOUR FUNCTION HERE\n",
    "\n",
    "q2 = ...\n",
    "\n",
    "# print result\n",
    "print(f'The soil is coarse-grained: {bool(q2)}')"
   ]
  },
  {
   "cell_type": "code",
   "execution_count": null,
   "id": "f08527fc",
   "metadata": {
    "deletable": false,
    "editable": false
   },
   "outputs": [],
   "source": [
    "grader.check(\"q2\")"
   ]
  },
  {
   "cell_type": "markdown",
   "id": "ba825658-0c6f-4a6b-bec6-fe876675b243",
   "metadata": {
    "deletable": false,
    "editable": false
   },
   "source": [
    "## Question 3: Gravel or Sand?\n",
    "\n",
    "Assume that a soil is coarse-grained. We want to check if it is gravel or sand.\n",
    " \n",
    "Write a function named `gravel_or_sand()` that checks whether a coarse-grained soil is gravel or sand. This function has the following input arguments:\n",
    "* `P4`, which is the percentage of soil passing through Sieve #4 (i.e., percent finer) by weight (or mass)\n",
    "* `P200`, which is the percentage of soil passing through Sieve #200 (i.e., percent finer) by weight (or mass)\n",
    "\n",
    "Your function should return the string `'G'` if the soil is gravel and the string `'S'` if it is sand. Note that strings are a sequence of characters enclosed within quotes, such as `' '`, so don't forget to include the quotes!\n",
    "\n",
    "Test your `gravel_or_sand()` function to check if a soil with `P4` equal to 70% and `P200` equal to 45% is gravel or sand. Assign the output to `q3`. Feel free to test it for any other inputs from the ones shown below.\n",
    "\n",
    "```PYTHON\n",
    "Examples:\n",
    "\n",
    ">>> gravel_or_sand(70, 45)\n",
    "'G'\n",
    "\n",
    ">>> gravel_or_sand(70, 35)\n",
    "'S'\n",
    "\n",
    ">>> gravel_or_sand(70, 40)\n",
    "'S'\n",
    "```"
   ]
  },
  {
   "cell_type": "code",
   "execution_count": null,
   "id": "a4cd0cbd-8578-4bee-9ca1-4d2a453c7c15",
   "metadata": {
    "tags": [
     "otter_answer_cell"
    ]
   },
   "outputs": [],
   "source": [
    "# ANSWER CELL\n",
    "\n",
    "def gravel_or_sand(P4, P200):\n",
    "\n",
    "    # compute the coarse fraction of the soil\n",
    "    coarse_fraction = ...\n",
    "\n",
    "    # compute the gravel fraction of the soil\n",
    "    gravel_fraction = ...\n",
    "\n",
    "    # check if gravel or sand\n",
    "    if ...:\n",
    "        return ...\n",
    "    else:\n",
    "        return ..."
   ]
  },
  {
   "cell_type": "code",
   "execution_count": null,
   "id": "d03755bb-423b-428a-a787-558368664009",
   "metadata": {
    "tags": [
     "otter_answer_cell"
    ]
   },
   "outputs": [],
   "source": [
    "# TEST YOUR FUNCTION HERE\n",
    "\n",
    "q3 = ...\n",
    "\n",
    "# print result\n",
    "print(f\"The soil is {'gravel' if q3.upper()=='G' else 'sand' if q3.upper()=='S' else None}.\")"
   ]
  },
  {
   "cell_type": "code",
   "execution_count": null,
   "id": "403112c0",
   "metadata": {
    "deletable": false,
    "editable": false
   },
   "outputs": [],
   "source": [
    "grader.check(\"q3\")"
   ]
  },
  {
   "attachments": {},
   "cell_type": "markdown",
   "id": "5048537e-ce60-431e-8003-038a8949f7b6",
   "metadata": {
    "deletable": false,
    "editable": false
   },
   "source": [
    "## Question 4: Coefficients of Uniformity and Curvature\n",
    "\n",
    "Assume that a soil is coarse-grained. We want to calculate its coefficients of uniformity and curvature, $Cu$ and $Cc$, respectively.\n",
    " \n",
    "Write a function named `coefficients()` that calculates the coefficients of uniformity and curvature of a soil. This function has the following input arguments:\n",
    "* `D60`, which is the particle size corresponding to 60% finer in mm\n",
    "* `D30`, which is the particle size corresponding to 30% finer in mm\n",
    "* `D10`, which is the particle size corresponding to 10% finer in mm\n",
    "\n",
    "Your function should compute and return the following (in this order):\n",
    "1. `Cu`: The coefficient of uniformity\n",
    "2. `Cc`: The coefficient of curvature\n",
    "\n",
    "Note that Python uses the following operators/symbols to perform different mathematical operations.\n",
    "\n",
    "| Operation       | Mathematical Notation | Python Operator | Python Example | Output    |\n",
    "|:----------------|:---------------------:|:---------------:|:---------------|:----------|\n",
    "| Addition        | $a+b$                 | `+`             | `3 + 2`        | `5`       |\n",
    "| Subtraction     | $a-b$                 | `-`             | `3 - 2`        | `1`       |\n",
    "| Multiplication  | $a\\times b$           | `*`             | `3 * 2`        | `6`       |\n",
    "| Division        | $\\dfrac{a}{b}$        | `/`             | `3 / 2`        | `1.5`     |\n",
    "| Exponentiation  | $a^b$                 | `**`            | `3 ** 2`       | `9`       |\n",
    "\n",
    "Test your `coefficients()` function using a `D60` equal to 0.15 mm, `D30` equal to 0.13 mm, and `D10` equal to 0.1 mm and assign the outputs to `Cu` and `Cc`, respectively. Feel free to test it for any other inputs."
   ]
  },
  {
   "cell_type": "code",
   "execution_count": null,
   "id": "8544f5c6-f245-4044-86f7-67882f33c2eb",
   "metadata": {
    "tags": [
     "otter_answer_cell"
    ]
   },
   "outputs": [],
   "source": [
    "# ANSWER CELL\n",
    "\n",
    "def coefficients(D60, D30, D10):\n",
    "\n",
    "    Cu = ...\n",
    "    Cc = ...\n",
    "    \n",
    "    return Cu, Cc"
   ]
  },
  {
   "cell_type": "code",
   "execution_count": null,
   "id": "3de58ad0-5845-478c-abbf-a007924b1ed5",
   "metadata": {
    "tags": [
     "otter_answer_cell"
    ]
   },
   "outputs": [],
   "source": [
    "# TEST YOUR FUNCTION HERE\n",
    "\n",
    "Cu, Cc = ...\n",
    "\n",
    "# print results\n",
    "print(f'Cu = {Cu}\\nCc = {Cc}')"
   ]
  },
  {
   "cell_type": "code",
   "execution_count": null,
   "id": "9ff20ee1",
   "metadata": {
    "deletable": false,
    "editable": false
   },
   "outputs": [],
   "source": [
    "grader.check(\"q4\")"
   ]
  },
  {
   "attachments": {},
   "cell_type": "markdown",
   "id": "4a2dee3a-46c3-436b-b387-c88533215e49",
   "metadata": {
    "deletable": false,
    "editable": false
   },
   "source": [
    "## Question 5: Well or Poorly Graded?\n",
    "\n",
    "Assume that a soil is coarse-grained. We want to check if it is well or poorly graded.\n",
    " \n",
    "Write a function named `gradation()` that checks if a coarse-grained soil is well or poorly graded. This function has the following input arguments:\n",
    "* `P4`, which is the percentage of soil passing through Sieve #4 (i.e., percent finer) by weight (or mass)\n",
    "* `P200`, which is the percentage of soil passing through Sieve #200 (i.e., percent finer) by weight (or mass)\n",
    "* `D60`, which is the particle size corresponding to 60% finer in mm\n",
    "* `D30`, which is the particle size corresponding to 30% finer in mm\n",
    "* `D10`, which is the particle size corresponding to 10% finer in mm\n",
    "\n",
    "Your function should return the string `'W'` if the soil is well-graded and the string `'P'` if it is poorly graded.\n",
    "\n",
    "Since the conditions for well-graded and poorly graded soil differ between gravel and sand, you must first determine whether the soil is gravel or sand and then apply the corresponding conditions for each. To do this, use the `gravel_or_sand()` function you previously wrote, which checks whether a coarse-grained soil is gravel or sand. You can call this function within the implementation of the function below.\n",
    "\n",
    "To check multiple conditions in Python, you can use logical operators such as `and`. For example, if you want to check if a variable `var1` is greater than 3 and another variable `var2` is less than 2, you can combine the conditions using the `and` operator like this:\n",
    "\n",
    "``` python\n",
    "var1 > 3 and var2 < 2\n",
    "```\n",
    "\n",
    "This expression will evaluate to True **only if both conditions** are true. If either condition is false, it will evaluate to False. Python includes a variety of comparison operators for performing comparisons:\n",
    "\n",
    "| Comparison         | Python Operator | True example | False Example |\n",
    "|:-------------------|:---------------:|:-------------|:--------------|\n",
    "| Less than          | `<`             | `2 < 3`      | `2 < 2`       |\n",
    "| Greater than       | `>`             | `3 > 2`      | `3 > 3`       |\n",
    "| Less than or equal | `<=`            | `2 <= 2`     | `3 <= 2`      |\n",
    "| Greater or equal   | `>=`            | `3 >= 3`     | `2 >= 3`      |\n",
    "| Equal              | `==`            | `3 == 3`     | `3 == 2`      |\n",
    "| Not equal          | `!=`            | `3 != 2`     | `2 != 2`      |\n",
    "\n",
    "<div class=\"alert alert-block alert-warning\"> <b>NOTE!</b> Python allows string comparison. So, if you want to check if the output of the fucntion <code>coarse()</code> is gravel, you can use the following: <br> <code>coarse(P4, P200) == 'G'</code>. This will evaluate to True if the soil is gravel and False otherwise. Note that, as shown in the table above, Python uses a double equal sign <code>==</code> to check if two expressions are equal to one another.</div>\n",
    "\n",
    "Test your `gradation()` function using a soil with `P4` equal to 70%, `P200` equal to 45%, `D60` equal to 0.15 mm, `D30` equal to 0.13 mm, and `D10` equal to 0.1 mm and assign the output to `q5`. Feel free to test it for any other inputs from the ones shown below.\n",
    "\n",
    "```PYTHON\n",
    "Examples:\n",
    "\n",
    ">>> gradation(70, 45, 0.15, 0.13, 0.1)\n",
    "'P'\n",
    "\n",
    ">>> gradation(70, 45, 0.45, 0.3, 0.1)\n",
    "'W'\n",
    "\n",
    ">>> gradation(70, 35, 0.15, 0.14, 0.005)\n",
    "'P'\n",
    "\n",
    ">>> gradation(70, 35, 0.65, 0.3, 0.1)\n",
    "'W'\n",
    "```\n",
    "\n",
    "Note that the function below uses **nested if statement**, which is an `if` statement inside another `if` statement. This allows for more complex conditions and actions. The syntax for nested `if` statements is:\n",
    "\n",
    "```python\n",
    "if condition_1: # outer if \n",
    "    \n",
    "    if condition_2: # inner if \n",
    "        # do code block 1a\n",
    "    else: # inner else \n",
    "        # do code block 1b\n",
    "        \n",
    "else: # outer else\n",
    "    \n",
    "    if condition_3: # inner if \n",
    "        # do code block 2a\n",
    "    else: # inner else \n",
    "        # do code block 2b\n",
    "```\n",
    "\n",
    "Because the inner `if` statement is nested within the outer `if` statement, both condition_1 and condition_2 should be `True` for the innermost code block 1a to execute. This means that even if condition_2 is `True` but condition_1 is `False`, code block 1a will not be executed. In addition, the inner `if` statement must be indented further than the outer `if` statement to indicate that it is part of the outer `if` block. Proper indentation is crucial for readability and correct program execution."
   ]
  },
  {
   "cell_type": "code",
   "execution_count": null,
   "id": "87ee278d-47cd-4a43-bc4a-9d74db4994fb",
   "metadata": {
    "tags": [
     "otter_answer_cell"
    ]
   },
   "outputs": [],
   "source": [
    "# ANSWER CELL\n",
    "\n",
    "def gradation(P4, P200, D60, D30, D10):\n",
    "\n",
    "    # call the function you defined to compute Cu and Cc\n",
    "    Cu, Cc = coefficients(D60, D30, D10)\n",
    "    \n",
    "    if ...: # add condition that evaluates to true if the soil is gravel by calling your gravel_or_sand() function\n",
    "        if ...: # add condition that evaluates to true if the gravel is well-graded\n",
    "            return ...\n",
    "        else: # otherwise, the gravel is poorly graded\n",
    "            return ...\n",
    "    else: # otherwise, the soil is sand\n",
    "        if ...: # add condition that evaluates to true if the sand is well-graded\n",
    "            return ...\n",
    "        else: # otherwise, the sand is poorly graded\n",
    "            return ..."
   ]
  },
  {
   "cell_type": "code",
   "execution_count": null,
   "id": "91f3a7e1-3cce-41a1-a4f7-717a4c7d1c98",
   "metadata": {
    "tags": [
     "otter_answer_cell"
    ]
   },
   "outputs": [],
   "source": [
    "# TEST YOUR FUNCTION HERE\n",
    "\n",
    "q5 = ...\n",
    "\n",
    "# print result\n",
    "print(f\"The soil is {'well-graded' if q5.upper()=='W' else 'poorly graded' if q5.upper()=='P' else None}.\")"
   ]
  },
  {
   "cell_type": "code",
   "execution_count": null,
   "id": "4897aed0",
   "metadata": {
    "deletable": false,
    "editable": false
   },
   "outputs": [],
   "source": [
    "grader.check(\"q5\")"
   ]
  },
  {
   "cell_type": "markdown",
   "id": "40004f8a-7000-4304-8930-cc037f787d4c",
   "metadata": {},
   "source": [
    "The functions that you have written thus far are mostly focused on coarse-grained soils. Next, we will focus on writing functions to help with classifying fine-grained soils. Finally, we will combine all functions together to develop a complete soil classification function. "
   ]
  },
  {
   "attachments": {},
   "cell_type": "markdown",
   "id": "489476b0-aa65-4c57-ae31-0ce25effa7ec",
   "metadata": {
    "deletable": false,
    "editable": false
   },
   "source": [
    "## Question 6: Low or High Plasticity?\n",
    "\n",
    "Fine-grained soils are mainly classified based on whether they have low or high plasticity and where they fall with respect to the \"A\"-line.\n",
    " \n",
    "Write a function named `plasticity()` that checks if a fine-grained soil or the fine-grained portion of a soil has low or high plasticity. This function has the following input argument:\n",
    "* `LL`, which is the liquid limit of the soil in %\n",
    "\n",
    "Your function should return the string `'L'` if the soil has low plasticity and the string `'H'` if it has high plasticity.\n",
    "\n",
    "Test your `plasticity()` function using a soil with `LL` equal to 55% and assign the output to `q6`. Feel free to test it for any other inputs.\n",
    "\n",
    "Note that for this question, we are providing you with a blank cell. By now, you should have seen several examples on how to define a function and structure it. So for this question, you should:\n",
    "1. Define the function and include its name and input arguments\n",
    "2. Include the body of the function that checks the conditions and returns the appropriate output\n",
    "3. Don't forget to include colons `:` where required. Mainly, you should include a `:` after defining a function and at the end of a conditional statement (`if`, `else`, etc.).\n",
    "4. Pay attention to indentation\n",
    "5. You may refer to previous examples"
   ]
  },
  {
   "cell_type": "code",
   "execution_count": null,
   "id": "a4a9255f-1505-4b6a-acee-b7983b532436",
   "metadata": {
    "tags": [
     "otter_answer_cell"
    ]
   },
   "outputs": [],
   "source": [
    "# ANSWER CELL\n",
    "\n",
    "..."
   ]
  },
  {
   "cell_type": "code",
   "execution_count": null,
   "id": "aac24dc7-c6a2-4ceb-8ad9-c08abcfa635e",
   "metadata": {
    "tags": [
     "otter_answer_cell"
    ]
   },
   "outputs": [],
   "source": [
    "# TEST YOUR FUNCTION HERE\n",
    "\n",
    "q6 = ...\n",
    "\n",
    "# print result\n",
    "print(f\"The soil has {'low plasticity' if q6.upper()=='L' else 'high plasticity' if q6.upper()=='H' else None}.\")"
   ]
  },
  {
   "cell_type": "code",
   "execution_count": null,
   "id": "a8827b96",
   "metadata": {
    "deletable": false,
    "editable": false
   },
   "outputs": [],
   "source": [
    "grader.check(\"q6\")"
   ]
  },
  {
   "attachments": {},
   "cell_type": "markdown",
   "id": "be76fe9d-ea13-48cb-bdfc-9f5c5f79fff1",
   "metadata": {
    "deletable": false,
    "editable": false
   },
   "source": [
    "## Question 7: Above or Below \"A\"-Line?\n",
    "\n",
    "Next, let's classify the fines based on where the plasticity index falls with respect to the \"A\"-line.\n",
    " \n",
    "Write a function named `silt_or_clay()` that checks if a fine-grained soil or the fine-grained portion of a soil is above or below the \"A\"-line. This function has the following input arguments:\n",
    "* `LL`, which is the liquid limit of the soil in %\n",
    "* `PL`, which is the plastic limit of the soil in %\n",
    "\n",
    "Your function should return the string `'C'` if the plasticity index of the soil plots on or above the \"A\"-line and the string `'M'` otherwise.\n",
    "\n",
    "Since you must first determine the plasticity index of the soil, use the `plasticity_index()` function you previously defined. You can call this function within the implementation of the function below.\n",
    "\n",
    "Note that the \"A\"-line has the following equations:\n",
    "\n",
    "$$A_{PI} =\n",
    "\\begin{cases} \n",
    "4, & \\text{if } LL \\leq 25.5 \\%\\\\\n",
    "0.73 (LL - 20), & \\text{if } LL > 25.5 \\%\n",
    "\\end{cases}$$\n",
    "\n",
    "where $A_{PI}$ is the plasticity index exactly on the \"A\"-line.\n",
    "\n",
    "Test your `silt_or_clay()` function using a soil with a liquid limit of 55% and a plastic limit of 25% and assign the output to `q7`. Feel free to test it for any other inputs from the ones shown below.\n",
    "\n",
    "```PYTHON\n",
    "Examples:\n",
    "\n",
    ">>> silt_or_clay(55, 25)\n",
    "'C'\n",
    "\n",
    ">>> silt_or_clay(55, 45)\n",
    "'M'\n",
    "\n",
    ">>> silt_or_clay(10, 7)\n",
    "'M'\n",
    "\n",
    ">>> silt_or_clay(20, 10)\n",
    "'C'\n",
    "```"
   ]
  },
  {
   "cell_type": "code",
   "execution_count": null,
   "id": "8cd0294c-df61-45bd-9c6c-e52d0863b10e",
   "metadata": {
    "tags": [
     "otter_answer_cell"
    ]
   },
   "outputs": [],
   "source": [
    "# ANSWER CELL\n",
    "\n",
    "def silt_or_clay(LL, PL):\n",
    "\n",
    "    # call the plasticity_index() function you defined to compute the actual PI\n",
    "    actual_PI = ...\n",
    "\n",
    "    # get PI on the \"A\"-line\n",
    "    if ...:\n",
    "        A_PI = ...\n",
    "    else:\n",
    "        A_PI = ...\n",
    "\n",
    "    # compare actual PI and that on the \"A\"-line and return the correct output \n",
    "    if ...:\n",
    "        return ...\n",
    "    else:\n",
    "        return ..."
   ]
  },
  {
   "cell_type": "code",
   "execution_count": null,
   "id": "561d4aa6-70cd-4d0c-8484-33f70c4d4666",
   "metadata": {
    "tags": [
     "otter_answer_cell"
    ]
   },
   "outputs": [],
   "source": [
    "# TEST YOUR FUNCTION HERE\n",
    "\n",
    "q7 = ...\n",
    "\n",
    "# print result\n",
    "print(f\"The soil is {'clay' if q7.upper()=='C' else 'silt' if q7.upper()=='M' else None}.\")"
   ]
  },
  {
   "cell_type": "code",
   "execution_count": null,
   "id": "a52bcfc8",
   "metadata": {
    "deletable": false,
    "editable": false
   },
   "outputs": [],
   "source": [
    "grader.check(\"q7\")"
   ]
  },
  {
   "cell_type": "markdown",
   "id": "b5edb1e1-88f2-4a39-b2bc-a9ea285dc8ea",
   "metadata": {},
   "source": [
    "Now, you should have all the intermediate functions needed to classify both coarse- and fine-grained soils. Next, we will write a function to determine the group symbol for fine-grained soils and then we'll do the same for coarse-grained soils."
   ]
  },
  {
   "attachments": {},
   "cell_type": "markdown",
   "id": "152bcf09-09fb-4e81-b2a0-8a7539605d20",
   "metadata": {
    "deletable": false,
    "editable": false
   },
   "source": [
    "## Question 8: Group Symbol for Fine-Grained Soils\n",
    "\n",
    "For simplicity, we will only focus on inorganic soils.\n",
    "\n",
    "Write a function named `classify_fine()` that returns the group symbol classification for a fine-grained soil or the fine-grained portion of a soil. This function has the following input arguments:\n",
    "* `LL`, which is the liquid limit of the soil in %\n",
    "* `PL`, which is the plastic limit of the soil in %\n",
    "\n",
    "Your function should return one of the following strings `'CL'`, `'ML'`, `'CH'`, `'MH'`, or `'CL-ML'`. Refer to the lecture material for the requirements of each group symbol.\n",
    "\n",
    "Since you must first determine whether the soil has low or high plasticity and whether the plasticity index plots above or below the \"A\"-line, use the `plasticity()` and `silt_or_clay()` functions you previously defined. You can call these functions within the implementation of the function below.\n",
    "\n",
    "***Hint**: It should be obvious that `'CL'`, `'ML'`, `'CH'`, and `'MH'` are a combination of the outputs from the `silt_or_clay()` and `plasticity()` functions. Meaning, if `silt_or_clay(55, 25)` returns `'C'` and `plasticity(55)` returns `'H'`, the group symbol is `'CH'` (combination of the two outputs). The only exception to this rule is the `'CL-ML'` group symbol. So here is how we suggest you approach this question:*\n",
    "1. Check the condition for `'CL-ML'`, and if satisfied (i.e., True), return `'CL-ML'` (refer to the lecture notes for the condition)\n",
    "2. Else, if the condition for `'CL-ML'` is not satisfied (i.e., False), return the combination of the outputs from the `silt_or_clay()` and `plasticity()` functions\n",
    "\n",
    "An easy way to combine the outputs of the `silt_or_clay()` and `plasticity()` functions is by placing a plus sign `+` between the function calls.  This will concatenate or \"glue\" their outputs together into a single string. Concatenation is a simple way to merge multiple strings into one. \n",
    "\n",
    "For example, `silt_or_clay(55, 25) + plasticity(55)` will evaluate to `'CH'` (i.e., `'C' + 'H'`).\n",
    "\n",
    "\n",
    "Test your `classify_fine()` function using a soil with a liquid limit of 55% and a plastic limit of 25% and assign the output to `q8`. Feel free to test it for any other inputs from the ones shown below.\n",
    "\n",
    "```PYTHON\n",
    "Examples:\n",
    "\n",
    ">>> classify_fine(55, 25)\n",
    "'CH'\n",
    "\n",
    ">>> classify_fine(55, 45)\n",
    "'MH'\n",
    "\n",
    ">>> classify_fine(10, 7)\n",
    "'ML'\n",
    "\n",
    ">>> classify_fine(20, 10)\n",
    "'CL'\n",
    "\n",
    ">>> classify_fine(10, 5)\n",
    "'CL-ML'\n",
    "```"
   ]
  },
  {
   "cell_type": "code",
   "execution_count": null,
   "id": "f4fec121-c3bb-4b90-ab7b-831278f73602",
   "metadata": {
    "tags": [
     "otter_answer_cell"
    ]
   },
   "outputs": [],
   "source": [
    "# ANSWER CELL\n",
    "\n",
    "def classify_fine(LL, PL):\n",
    "    \n",
    "    if ...:\n",
    "        return ...\n",
    "    else:\n",
    "        return ..."
   ]
  },
  {
   "cell_type": "code",
   "execution_count": null,
   "id": "d73b9bb1-15b7-4075-a030-32056afe1d96",
   "metadata": {
    "tags": [
     "otter_answer_cell"
    ]
   },
   "outputs": [],
   "source": [
    "# TEST YOUR FUNCTION HERE\n",
    "\n",
    "q8 = ...\n",
    "\n",
    "# print result\n",
    "print(f'The soil is {q8}.')"
   ]
  },
  {
   "cell_type": "code",
   "execution_count": null,
   "id": "c77b2ef7",
   "metadata": {
    "deletable": false,
    "editable": false
   },
   "outputs": [],
   "source": [
    "grader.check(\"q8\")"
   ]
  },
  {
   "attachments": {},
   "cell_type": "markdown",
   "id": "46ebe7a5-84ed-49de-98f9-54b15989051a",
   "metadata": {
    "deletable": false,
    "editable": false
   },
   "source": [
    "## Question 9: Group Symbol for Gravel\n",
    "\n",
    "Write a function named `classify_gravel()` that returns the group symbol classification for gravel. This function has the following input arguments:\n",
    "* `P4`, which is the percentage of soil passing through Sieve #4 (i.e., percent finer) by weight (or mass)\n",
    "* `P200`, which is the percentage of soil passing through Sieve #200 (i.e., percent finer) by weight (or mass)\n",
    "* `D60`, which is the particle size corresponding to 60% finer in mm\n",
    "* `D30`, which is the particle size corresponding to 30% finer in mm\n",
    "* `D10`, which is the particle size corresponding to 10% finer in mm\n",
    "* `LL`, which is the liquid limit of the soil in %\n",
    "* `PL`, which is the plastic limit of the soil in %\n",
    "\n",
    "Your function should return one of the following strings `'GW'`, `'GP'`, `'GW-GM'`, `'GW-GC'`, `'GP-GM'`, `'GP-GC'`, `'GM'`, `'GC'`, or `'GC-GM'`. Refer to the lecture material for the requirements of each group symbol.\n",
    "\n",
    "Since you must first determine whether the soil is well- or poorly graded and in some cases the classification of the fine-grained portion of the soil, use the `gradation()` and `classify_fine()` functions you previously defined. You can call these functions within the implementation of the function below.\n",
    "\n",
    "If a soil does not have LL and PL, assign them values of 0 when calling the function.\n",
    "\n",
    "Test your `classify_gravel()` function using any of the examples below and assign the output to `q9`. Feel free to test it for any other inputs from the ones shown below.\n",
    "\n",
    "```PYTHON\n",
    "Examples:\n",
    "\n",
    ">>> classify_gravel(40, 4, 0.3, 0.14, 0.025, 0, 0)\n",
    "'GW'\n",
    "\n",
    ">>> classify_gravel(40, 4, 0.15, 0.13, 0.1, 0, 0)\n",
    "'GP'\n",
    "\n",
    ">>> classify_gravel(40, 10, 0.3, 0.14, 0.025, 30, 25)\n",
    "'GW-GM'\n",
    "\n",
    ">>> classify_gravel(40, 10, 0.3, 0.14, 0.025, 30, 15)\n",
    "'GW-GC'\n",
    "\n",
    ">>> classify_gravel(40, 10, 0.15, 0.13, 0.1, 30, 25)\n",
    "'GP-GM'\n",
    "\n",
    ">>> classify_gravel(40, 10, 0.15, 0.13, 0.1, 30, 15)\n",
    "'GP-GC'\n",
    "\n",
    ">>> classify_gravel(40, 20, 0.15, 0.13, 0.1, 30, 25)\n",
    "'GM'\n",
    "\n",
    ">>> classify_gravel(40, 20, 0.15, 0.13, 0.1, 30, 15)\n",
    "'GC'\n",
    "\n",
    ">>> classify_gravel(40, 20, 0.15, 0.13, 0.1, 25, 20)\n",
    "'GC-GM'\n",
    "```"
   ]
  },
  {
   "cell_type": "code",
   "execution_count": null,
   "id": "9bfee7b8-1022-434f-8d63-2ff750cd94c1",
   "metadata": {
    "tags": [
     "otter_answer_cell"
    ]
   },
   "outputs": [],
   "source": [
    "# ANSWER CELL\n",
    "\n",
    "def classify_gravel(P4, P200, D60, D30, D10, LL, PL):\n",
    "\n",
    "    # Get the gradation result and fine classification\n",
    "    gradation_result = ...\n",
    "    fine_group = ...\n",
    "    \n",
    "    # Case 1: Very little fines (< 5%)\n",
    "    if ...:\n",
    "        if ...:  # Well-graded\n",
    "            return ...\n",
    "        else:  # Poorly graded\n",
    "            return ...\n",
    "\n",
    "    # Case 2: Moderate fines (5-12% fines)\n",
    "    if ...:\n",
    "        if ...:  # Well-graded\n",
    "            if ...:  # Silts\n",
    "                return ...\n",
    "            else:  # Clays\n",
    "                return ...\n",
    "        else:  # Poorly graded\n",
    "            if ...:  # Silts\n",
    "                return ...\n",
    "            else:  # Clays\n",
    "                return ...\n",
    "\n",
    "    # Case 3: High fines (> 12%)\n",
    "    # There is no need to check if fines greater than 12% \n",
    "    # The code will only reach this point if the two previous conditions (< 5% and 5-12%) are False\n",
    "    if ...:  # Silts\n",
    "        return ...\n",
    "    elif ...:  # Clays\n",
    "        return ...\n",
    "    else:  # Mixture of fines\n",
    "        return ..."
   ]
  },
  {
   "cell_type": "code",
   "execution_count": null,
   "id": "869c6558-b387-4ece-8a16-10111ba376be",
   "metadata": {
    "tags": [
     "otter_answer_cell"
    ]
   },
   "outputs": [],
   "source": [
    "# TEST YOUR FUNCTION HERE\n",
    "\n",
    "q9 = ...\n",
    "\n",
    "# print result\n",
    "print(f'The soil is {q9}.')"
   ]
  },
  {
   "cell_type": "code",
   "execution_count": null,
   "id": "c1467b7b",
   "metadata": {
    "deletable": false,
    "editable": false
   },
   "outputs": [],
   "source": [
    "grader.check(\"q9\")"
   ]
  },
  {
   "attachments": {},
   "cell_type": "markdown",
   "id": "e7a034b2-60e9-4b3c-9b2e-0ca23d7d9edb",
   "metadata": {
    "deletable": false,
    "editable": false
   },
   "source": [
    "## Question 10: Group Symbol for Sand\n",
    "\n",
    "Write a function named `classify_sand()` that returns the group symbol classification for sand. This function has the following input arguments:\n",
    "* `P4`, which is the percentage of soil passing through Sieve #4 (i.e., percent finer) by weight (or mass)\n",
    "* `P200`, which is the percentage of soil passing through Sieve #200 (i.e., percent finer) by weight (or mass)\n",
    "* `D60`, which is the particle size corresponding to 60% finer in mm\n",
    "* `D30`, which is the particle size corresponding to 30% finer in mm\n",
    "* `D10`, which is the particle size corresponding to 10% finer in mm\n",
    "* `LL`, which is the liquid limit of the soil in %\n",
    "* `PL`, which is the plastic limit of the soil in %\n",
    "\n",
    "Your function should return one of the following strings `'SW'`, `'SP'`, `'SW-SM'`, `'SW-SC'`, `'SP-SM'`, `'SP-SC'`, `'SM'`, `'SC'`, or `'SC-SM'`. Refer to the lecture material for the requirements of each group symbol.\n",
    "\n",
    "Since you must first determine whether the soil is well- or poorly graded and in some cases the classification of the fine-grained portion of the soil, use the `gradation()` and `classify_fine()` functions you previously defined. You can call these functions within the implementation of the function below.\n",
    "\n",
    "If a soil does not have LL and PL, assign them values of 0 when calling the function.\n",
    "\n",
    "**Note** that if you implemented Question 9 correctly, you should be able to copy its code and paste below and simply replace 'G' with 'S'.\n",
    "\n",
    "Test your `classify_sand()` function using any of the examples below and assign the output to `q10`. Feel free to test it for any other inputs from the ones shown below.\n",
    "\n",
    "```PYTHON\n",
    "Examples:\n",
    "\n",
    ">>> classify_sand(60, 4, 0.3, 0.14, 0.025, 0, 0)\n",
    "'SW'\n",
    "\n",
    ">>> classify_sand(60, 4, 0.15, 0.13, 0.1, 0, 0)\n",
    "'SP'\n",
    "\n",
    ">>> classify_sand(60, 10, 0.3, 0.14, 0.025, 30, 25)\n",
    "'SW-SM'\n",
    "\n",
    ">>> classify_sand(60, 10, 0.3, 0.14, 0.025, 30, 15)\n",
    "'SW-SC'\n",
    "\n",
    ">>> classify_sand(60, 10, 0.15, 0.13, 0.1, 30, 25)\n",
    "'SP-SM'\n",
    "\n",
    ">>> classify_sand(60, 10, 0.15, 0.13, 0.1, 30, 15)\n",
    "'SP-SC'\n",
    "\n",
    ">>> classify_sand(65, 20, 0.15, 0.13, 0.1, 30, 25)\n",
    "'SM'\n",
    "\n",
    ">>> classify_sand(65, 20, 0.15, 0.13, 0.1, 30, 15)\n",
    "'SC'\n",
    "\n",
    ">>> classify_sand(65, 20, 0.15, 0.13, 0.1, 25, 20)\n",
    "'SC-SM'\n",
    "```"
   ]
  },
  {
   "cell_type": "code",
   "execution_count": null,
   "id": "d9803e52-f43a-48e0-8357-0311fca6ada9",
   "metadata": {
    "tags": [
     "otter_answer_cell"
    ]
   },
   "outputs": [],
   "source": [
    "# ANSWER CELL\n",
    "\n",
    "def classify_sand(P4, P200, D60, D30, D10, LL, PL):\n",
    "\n",
    "    # Get the gradation result and fine classification\n",
    "    gradation_result = ...\n",
    "    fine_group = ...\n",
    "    \n",
    "    # Case 1: Very little fines (< 5%)\n",
    "    if ...:\n",
    "        if ...:  # Well-graded\n",
    "            return ...\n",
    "        else:  # Poorly graded\n",
    "            return ...\n",
    "\n",
    "    # Case 2: Moderate fines (5-12% fines)\n",
    "    if ...:\n",
    "        if ...:  # Well-graded\n",
    "            if ...:  # Silts\n",
    "                return ...\n",
    "            else:  # Clays\n",
    "                return ...\n",
    "        else:  # Poorly graded\n",
    "            if ...:  # Silts\n",
    "                return ...\n",
    "            else:  # Clays\n",
    "                return ...\n",
    "\n",
    "    # Case 3: High fines (> 12%)\n",
    "    # There is no need to check if fines greater than 12% \n",
    "    # The code will only reach this point if the two previous conditions (< 5% and 5-12%) are False\n",
    "    if ...:  # Silts\n",
    "        return ...\n",
    "    elif ...:  # Clays\n",
    "        return ...\n",
    "    else:  # Mixture of fines\n",
    "        return ..."
   ]
  },
  {
   "cell_type": "code",
   "execution_count": null,
   "id": "7f49c912-53a4-48ec-b25d-c2c6b85b67f4",
   "metadata": {
    "tags": [
     "otter_answer_cell"
    ]
   },
   "outputs": [],
   "source": [
    "# TEST YOUR FUNCTION HERE\n",
    "\n",
    "q10 = ...\n",
    "\n",
    "# print result\n",
    "print(f'The soil is {q10}.')"
   ]
  },
  {
   "cell_type": "code",
   "execution_count": null,
   "id": "8c8f6ab4",
   "metadata": {
    "deletable": false,
    "editable": false
   },
   "outputs": [],
   "source": [
    "grader.check(\"q10\")"
   ]
  },
  {
   "attachments": {},
   "cell_type": "markdown",
   "id": "ef205a0b-8354-4fe9-ac54-d0ced57dcbc2",
   "metadata": {
    "deletable": false,
    "editable": false
   },
   "source": [
    "## Question 11: Full Soil Classification\n",
    "\n",
    "Now that we have all the pieces, let's put them together to write one main function that determines the soil classification of any soil.\n",
    "\n",
    "Write a function named `classify_soil()` that returns the group symbol classification for any soil. This function has the following input arguments:\n",
    "* `P4`, which is the percentage of soil passing through Sieve #4 (i.e., percent finer) by weight (or mass)\n",
    "* `P200`, which is the percentage of soil passing through Sieve #200 (i.e., percent finer) by weight (or mass)\n",
    "* `D60`, which is the particle size corresponding to 60% finer in mm\n",
    "* `D30`, which is the particle size corresponding to 30% finer in mm\n",
    "* `D10`, which is the particle size corresponding to 10% finer in mm\n",
    "* `LL`, which is the liquid limit of the soil in %\n",
    "* `PL`, which is the plastic limit of the soil in %\n",
    "\n",
    "Here are the steps:\n",
    "1. Check if the soil is coarse- or fine-grained using the `coarse()` function\n",
    "2. If coarse-grained, check if it is gravel or sand using the `gravel_or_sand()` function\n",
    "    1. If gravel, classify it using the `classify_gravel()` function\n",
    "    2. Else if the soil is sand, classify it using the `classify_sand()` function\n",
    "3. Else if the soil is fine-grained, classify it using the `classify_fine()` function\n",
    "\n",
    "Test your `classify_soil()` function using any of the examples below and assign the output to `q11`. Feel free to test it for any other inputs from the ones shown below.\n",
    "\n",
    "Note that for fine-grained soils, `D60`, `D30`, and `D10` are not required. So you can assign them values of 0 when calling the function.\n",
    "\n",
    "```PYTHON\n",
    "Examples:\n",
    "\n",
    ">>> classify_soil(100, 2.5, 0.15, 0.13, 0.095, 0, 0)\n",
    "'SP'\n",
    "\n",
    ">>> classify_soil(75, 7.5, 0.41, 0.23, 0.095, 0, 0)\n",
    "'SP-SM'\n",
    "\n",
    ">>> classify_soil(100, 82, 0, 0, 0, 46, 30)\n",
    "'ML'\n",
    "\n",
    ">>> classify_soil(95, 54, 0, 0, 0, 75, 32)\n",
    "'CH'\n",
    "```"
   ]
  },
  {
   "cell_type": "code",
   "execution_count": null,
   "id": "80d82dc5-a741-4220-bac1-db91d9fc4d40",
   "metadata": {
    "tags": [
     "otter_answer_cell"
    ]
   },
   "outputs": [],
   "source": [
    "# ANSWER CELL\n",
    "\n",
    "def classify_soil(P4, P200, D60, D30, D10, LL, PL):\n",
    "    \n",
    "    # Check if coarse grained\n",
    "    if ...:\n",
    "        if ...:  # Check if gravel\n",
    "            return ... \n",
    "        else: # otherwise, it is sand\n",
    "            return ...\n",
    "\n",
    "    else: # otherwise, it is fine grained\n",
    "        return ..."
   ]
  },
  {
   "cell_type": "code",
   "execution_count": null,
   "id": "6b752af3-7313-40dc-9e15-965a133eda95",
   "metadata": {
    "tags": [
     "otter_answer_cell"
    ]
   },
   "outputs": [],
   "source": [
    "# TEST YOUR FUNCTION HERE\n",
    "\n",
    "q11 = ...\n",
    "\n",
    "# print result\n",
    "print(f'The soil is {q11}.')"
   ]
  },
  {
   "cell_type": "code",
   "execution_count": null,
   "id": "98bd7299",
   "metadata": {
    "deletable": false,
    "editable": false
   },
   "outputs": [],
   "source": [
    "grader.check(\"q11\")"
   ]
  },
  {
   "cell_type": "markdown",
   "id": "a60e9aa6",
   "metadata": {
    "deletable": false,
    "editable": false
   },
   "source": [
    "---\n",
    "\n",
    "To double-check your work, the cell below will rerun all of the autograder tests."
   ]
  },
  {
   "cell_type": "code",
   "execution_count": null,
   "id": "7da0da72",
   "metadata": {
    "deletable": false,
    "editable": false
   },
   "outputs": [],
   "source": [
    "grader.check_all()"
   ]
  },
  {
   "cell_type": "markdown",
   "id": "ec17db2b",
   "metadata": {
    "deletable": false,
    "editable": false
   },
   "source": [
    "## Submission\n",
    "\n",
    "Make sure you have run all cells in your notebook in order before running the cell below, so that all images/graphs appear in the output. The cell below will generate a zip file for you to submit. **Please save before exporting!**\n",
    "\n",
    "Make sure you submit the .zip file to Gradescope."
   ]
  },
  {
   "cell_type": "code",
   "execution_count": null,
   "id": "ecb23455",
   "metadata": {
    "deletable": false,
    "editable": false
   },
   "outputs": [],
   "source": [
    "# Save your notebook first, then run this cell to export your submission.\n",
    "grader.export(pdf=False)"
   ]
  },
  {
   "cell_type": "markdown",
   "id": "ef9002e1",
   "metadata": {},
   "source": [
    " "
   ]
  }
 ],
 "metadata": {
  "kernelspec": {
   "display_name": "Python 3 (ipykernel)",
   "language": "python",
   "name": "python3"
  },
  "language_info": {
   "codemirror_mode": {
    "name": "ipython",
    "version": 3
   },
   "file_extension": ".py",
   "mimetype": "text/x-python",
   "name": "python",
   "nbconvert_exporter": "python",
   "pygments_lexer": "ipython3",
   "version": "3.11.11"
  },
  "otter": {
   "OK_FORMAT": true,
   "assignment_name": "cee175",
   "tests": {
    "q0": {
     "name": "q0",
     "points": 0,
     "suites": [
      {
       "cases": [
        {
         "code": ">>> assert get_hash(o) == 'eccbc87e4b5ce2fe28308fd9f2a7baf3'\n",
         "hidden": false,
         "locked": false
        }
       ],
       "scored": true,
       "setup": "",
       "teardown": "",
       "type": "doctest"
      }
     ]
    },
    "q1": {
     "name": "q1",
     "points": null,
     "suites": [
      {
       "cases": [
        {
         "code": ">>> assert get_hash(type(q1)) != '14e736438b115821cbb9b7ac0ba79034'\n",
         "failure_message": "Make sure to test your function!",
         "hidden": false,
         "locked": false,
         "points": 1
        },
        {
         "code": ">>> assert get_hash(int(plasticity_index(55, 25))) == '34173cb38f07f89ddbebc2ac9128303f'\n>>> assert get_hash(int(plasticity_index(60, 40))) == '98f13708210194c475687be6106a3b84'\n>>> assert get_hash(int(plasticity_index(30, 5))) == '8e296a067a37563370ded05f5a3bf3ec'\n",
         "hidden": false,
         "locked": false,
         "points": 1
        }
       ],
       "scored": true,
       "setup": "",
       "teardown": "",
       "type": "doctest"
      }
     ]
    },
    "q10": {
     "name": "q10",
     "points": null,
     "suites": [
      {
       "cases": [
        {
         "code": ">>> assert get_hash(type(q10)) != '14e736438b115821cbb9b7ac0ba79034'\n",
         "failure_message": "Make sure to test your function!",
         "hidden": false,
         "locked": false,
         "points": 0.25
        },
        {
         "code": ">>> assert classify_sand(60, 4, 0.3, 0.14, 0.025, 0, 0).upper() == 'SW'\n>>> assert classify_sand(60, 4, 0.15, 0.13, 0.1, 0, 0).upper() == 'SP'\n>>> assert classify_sand(60, 10, 0.3, 0.14, 0.025, 30, 25).upper() == 'SW-SM'\n>>> assert classify_sand(60, 10, 0.3, 0.14, 0.025, 30, 15).upper() == 'SW-SC'\n>>> assert classify_sand(60, 10, 0.15, 0.13, 0.1, 30, 25).upper() == 'SP-SM'\n>>> assert classify_sand(60, 10, 0.15, 0.13, 0.1, 30, 15).upper() == 'SP-SC'\n>>> assert classify_sand(65, 20, 0.15, 0.13, 0.1, 30, 25).upper() == 'SM'\n>>> assert classify_sand(65, 20, 0.15, 0.13, 0.1, 30, 15).upper() == 'SC'\n>>> assert classify_sand(65, 20, 0.15, 0.13, 0.1, 25, 20).upper() == 'SC-SM'\n",
         "hidden": false,
         "locked": false,
         "points": 1.5
        },
        {
         "code": ">>> assert get_hash(classify_sand(60, 1, 2, 1.1, 0.3, 0, 0).upper()) == '6f56aa4e2561eb66f17f6d8de8070a77'\n>>> assert get_hash(classify_sand(60, 1, 2, 1.5, 0.3, 0, 0).upper()) == '674769e3326f8cf937af4282f2815c02'\n>>> assert get_hash(classify_sand(60, 6, 0.7, 0.3, 0.1, 60, 40).upper()) == '65c56b049b73002cf51b3af4e2bd53fe'\n>>> assert get_hash(classify_sand(60, 6, 0.7, 0.3, 0.1, 60, 30).upper()) == 'f419abeb5493c8c55303eb149514d422'\n>>> assert get_hash(classify_sand(60, 6, 0.45, 0.25, 0.1, 60, 40).upper()) == '1f6c58153add4babee7e71c6901c7134'\n>>> assert get_hash(classify_sand(60, 6, 0.45, 0.2, 0.1, 60, 30).upper()) == 'b04d57f315980016bd43ba0ef4a25a3e'\n>>> assert get_hash(classify_sand(70, 13, 0.15, 0.13, 0.1, 20, 17).upper()) == '4e0d4f6ce30646f5a3f3e2a7422c1c5a'\n>>> assert get_hash(classify_sand(70, 13, 0.15, 0.13, 0.1, 55, 25).upper()) == '6a65edb0cc17d66c677814115b1477f5'\n>>> assert get_hash(classify_sand(70, 13, 0.15, 0.13, 0.1, 10, 4).upper()) == 'ed68e6ebff520017f868f48f2dc722c5'\n",
         "hidden": false,
         "locked": false,
         "points": 1.5
        }
       ],
       "scored": true,
       "setup": "",
       "teardown": "",
       "type": "doctest"
      }
     ]
    },
    "q11": {
     "name": "q11",
     "points": null,
     "suites": [
      {
       "cases": [
        {
         "code": ">>> assert get_hash(type(q11)) != '14e736438b115821cbb9b7ac0ba79034'\n",
         "failure_message": "Make sure to test your function!",
         "hidden": false,
         "locked": false,
         "points": 0.25
        },
        {
         "code": ">>> assert get_hash(classify_soil(10, 55, 0, 0, 0, 55, 25).upper()) == '1ee0bf89c5d1032317d13a2e022793c8'\n>>> assert get_hash(classify_soil(10, 60, 0, 0, 0, 75, 25).upper()) == '1ee0bf89c5d1032317d13a2e022793c8'\n>>> assert get_hash(classify_soil(10, 75, 0, 0, 0, 30, 20).upper()) == '5bc574a47246f122016869b32a6aa6f0'\n>>> assert get_hash(classify_soil(10, 60, 0, 0, 0, 60, 30.7).upper()) == '1ee0bf89c5d1032317d13a2e022793c8'\n>>> assert get_hash(classify_soil(10, 75, 0, 0, 0, 55, 45).upper()) == '002f27e5064e874ecf4f5def17d1b797'\n>>> assert get_hash(classify_soil(10, 80, 0, 0, 0, 75, 45).upper()) == '002f27e5064e874ecf4f5def17d1b797'\n>>> assert get_hash(classify_soil(10, 62, 0, 0, 0, 30, 25).upper()) == 'd01fd9b01e9dde8bd3dc247afbfb7218'\n>>> assert get_hash(classify_soil(10, 75, 0, 0, 0, 60, 30.9).upper()) == '002f27e5064e874ecf4f5def17d1b797'\n",
         "hidden": false,
         "locked": false,
         "points": 1.5
        },
        {
         "code": ">>> assert get_hash(classify_soil(10, 75, 0, 0, 0, 20, 10).upper()) == '5bc574a47246f122016869b32a6aa6f0'\n>>> assert get_hash(classify_soil(10, 67, 0, 0, 0, 10, 7).upper()) == 'd01fd9b01e9dde8bd3dc247afbfb7218'\n>>> assert get_hash(classify_soil(10, 59, 0, 0, 0, 20, 17).upper()) == 'd01fd9b01e9dde8bd3dc247afbfb7218'\n",
         "hidden": false,
         "locked": false,
         "points": 1.5
        },
        {
         "code": ">>> assert classify_soil(40, 4, 0.3, 0.14, 0.025, 0, 0).upper() == 'GW'\n>>> assert classify_soil(40, 4, 0.15, 0.13, 0.1, 0, 0).upper() == 'GP'\n>>> assert classify_soil(40, 10, 0.3, 0.14, 0.025, 30, 25).upper() == 'GW-GM'\n>>> assert classify_soil(40, 10, 0.3, 0.14, 0.025, 30, 15).upper() == 'GW-GC'\n>>> assert classify_soil(40, 10, 0.15, 0.13, 0.1, 30, 25).upper() == 'GP-GM'\n>>> assert classify_soil(40, 10, 0.15, 0.13, 0.1, 30, 15).upper() == 'GP-GC'\n>>> assert classify_soil(40, 20, 0.15, 0.13, 0.1, 30, 25).upper() == 'GM'\n>>> assert classify_soil(40, 20, 0.15, 0.13, 0.1, 30, 15).upper() == 'GC'\n>>> assert classify_soil(40, 20, 0.15, 0.13, 0.1, 25, 20).upper() == 'GC-GM'\n",
         "hidden": false,
         "locked": false,
         "points": 1.5
        },
        {
         "code": ">>> assert get_hash(classify_soil(50, 1, 2, 1.1, 0.3, 0, 0).upper()) == 'c17d19f7520be36addbeb5d2c76ab7cf'\n>>> assert get_hash(classify_soil(50, 1, 2, 1.5, 0.3, 0, 0).upper()) == 'ad2d8ee7d788dcf41f399818f639cb64'\n>>> assert get_hash(classify_soil(50, 6, 0.45, 0.25, 0.1, 60, 40).upper()) == 'c31f61bf166e30ec55828503fad107d4'\n>>> assert get_hash(classify_soil(50, 6, 0.45, 0.25, 0.1, 60, 30).upper()) == 'acb50b1138e657e40d297035097d0bf1'\n>>> assert get_hash(classify_soil(50, 6, 0.45, 0.2, 0.1, 60, 40).upper()) == '03f9d3f62bd6324143e47935f642177a'\n>>> assert get_hash(classify_soil(50, 6, 0.45, 0.2, 0.1, 60, 30).upper()) == 'f9bb4d123b6b669ac79bd9465d619d00'\n>>> assert get_hash(classify_soil(50, 13, 0.15, 0.13, 0.1, 20, 17).upper()) == '64f3bd1741ab8d6ba545a1ae09bb8728'\n>>> assert get_hash(classify_soil(50, 13, 0.15, 0.13, 0.1, 55, 25).upper()) == '7359c3eb5c57547295a76ac1bf775b29'\n>>> assert get_hash(classify_soil(50, 13, 0.15, 0.13, 0.1, 10, 4).upper()) == '58a3dd33c44967a9f632495eaf1b41b0'\n",
         "hidden": false,
         "locked": false,
         "points": 1.5
        },
        {
         "code": ">>> assert classify_soil(60, 4, 0.3, 0.14, 0.025, 0, 0).upper() == 'SW'\n>>> assert classify_soil(60, 4, 0.15, 0.13, 0.1, 0, 0).upper() == 'SP'\n>>> assert classify_soil(60, 10, 0.3, 0.14, 0.025, 30, 25).upper() == 'SW-SM'\n>>> assert classify_soil(60, 10, 0.3, 0.14, 0.025, 30, 15).upper() == 'SW-SC'\n>>> assert classify_soil(60, 10, 0.15, 0.13, 0.1, 30, 25).upper() == 'SP-SM'\n>>> assert classify_soil(60, 10, 0.15, 0.13, 0.1, 30, 15).upper() == 'SP-SC'\n>>> assert classify_soil(65, 20, 0.15, 0.13, 0.1, 30, 25).upper() == 'SM'\n>>> assert classify_soil(65, 20, 0.15, 0.13, 0.1, 30, 15).upper() == 'SC'\n>>> assert classify_soil(65, 20, 0.15, 0.13, 0.1, 25, 20).upper() == 'SC-SM'\n",
         "hidden": false,
         "locked": false,
         "points": 1.5
        },
        {
         "code": ">>> assert get_hash(classify_soil(60, 1, 2, 1.1, 0.3, 0, 0).upper()) == '6f56aa4e2561eb66f17f6d8de8070a77'\n>>> assert get_hash(classify_soil(60, 1, 2, 1.5, 0.3, 0, 0).upper()) == '674769e3326f8cf937af4282f2815c02'\n>>> assert get_hash(classify_soil(60, 6, 0.7, 0.3, 0.1, 60, 40).upper()) == '65c56b049b73002cf51b3af4e2bd53fe'\n>>> assert get_hash(classify_soil(60, 6, 0.7, 0.3, 0.1, 60, 30).upper()) == 'f419abeb5493c8c55303eb149514d422'\n>>> assert get_hash(classify_soil(60, 6, 0.45, 0.25, 0.1, 60, 40).upper()) == '1f6c58153add4babee7e71c6901c7134'\n>>> assert get_hash(classify_soil(60, 6, 0.45, 0.2, 0.1, 60, 30).upper()) == 'b04d57f315980016bd43ba0ef4a25a3e'\n>>> assert get_hash(classify_soil(70, 13, 0.15, 0.13, 0.1, 20, 17).upper()) == '4e0d4f6ce30646f5a3f3e2a7422c1c5a'\n>>> assert get_hash(classify_soil(70, 13, 0.15, 0.13, 0.1, 55, 25).upper()) == '6a65edb0cc17d66c677814115b1477f5'\n>>> assert get_hash(classify_soil(70, 13, 0.15, 0.13, 0.1, 10, 4).upper()) == 'ed68e6ebff520017f868f48f2dc722c5'\n",
         "hidden": false,
         "locked": false,
         "points": 1.5
        }
       ],
       "scored": true,
       "setup": "",
       "teardown": "",
       "type": "doctest"
      }
     ]
    },
    "q2": {
     "name": "q2",
     "points": null,
     "suites": [
      {
       "cases": [
        {
         "code": ">>> assert get_hash(type(q2)) != '14e736438b115821cbb9b7ac0ba79034'\n",
         "failure_message": "Make sure to test your function!",
         "hidden": false,
         "locked": false,
         "points": 0.25
        },
        {
         "code": ">>> assert get_hash(int(coarse(5))) == 'c4ca4238a0b923820dcc509a6f75849b'\n>>> assert get_hash(int(coarse(40))) == 'c4ca4238a0b923820dcc509a6f75849b'\n>>> assert get_hash(int(coarse(55))) == 'cfcd208495d565ef66e7dff9f98764da'\n>>> assert get_hash(int(coarse(55))) == 'cfcd208495d565ef66e7dff9f98764da'\n",
         "hidden": false,
         "locked": false,
         "points": 1.5
        },
        {
         "code": ">>> assert get_hash(int(coarse(50))) == 'cfcd208495d565ef66e7dff9f98764da'\n",
         "failure_message": "If P200 is exactly equal to 50%, and per USCS, is the soil coarse- or fine-grained?",
         "hidden": false,
         "locked": false,
         "points": 1
        }
       ],
       "scored": true,
       "setup": "",
       "teardown": "",
       "type": "doctest"
      }
     ]
    },
    "q3": {
     "name": "q3",
     "points": null,
     "suites": [
      {
       "cases": [
        {
         "code": ">>> assert get_hash(type(q3)) != '14e736438b115821cbb9b7ac0ba79034'\n",
         "failure_message": "Make sure to test your function!",
         "hidden": false,
         "locked": false,
         "points": 0.25
        },
        {
         "code": ">>> assert get_hash(gravel_or_sand(70, 45).upper()) == 'dfcf28d0734569a6a693bc8194de62bf'\n>>> assert get_hash(gravel_or_sand(80, 90).upper()) == 'dfcf28d0734569a6a693bc8194de62bf'\n>>> assert get_hash(gravel_or_sand(70, 35).upper()) == '5dbc98dcc983a70728bd082d1a47546e'\n>>> assert get_hash(gravel_or_sand(80, 50).upper()) == '5dbc98dcc983a70728bd082d1a47546e'\n",
         "hidden": false,
         "locked": false,
         "points": 1.5
        },
        {
         "code": ">>> assert get_hash(gravel_or_sand(70, 40).upper()) == '5dbc98dcc983a70728bd082d1a47546e'\n",
         "failure_message": "If exactly 50% of coarse fraction passes sieve",
         "hidden": false,
         "locked": false,
         "points": 1
        }
       ],
       "scored": true,
       "setup": "",
       "teardown": "",
       "type": "doctest"
      }
     ]
    },
    "q4": {
     "name": "q4",
     "points": null,
     "suites": [
      {
       "cases": [
        {
         "code": ">>> assert get_hash(type(Cu)) != '14e736438b115821cbb9b7ac0ba79034'\n>>> assert get_hash(type(Cc)) != '14e736438b115821cbb9b7ac0ba79034'\n",
         "failure_message": "Make sure to test your function!",
         "hidden": false,
         "locked": false,
         "points": 0.25
        },
        {
         "code": ">>> assert get_hash(round(coefficients(0.15, 0.13, 0.1)[0], 3)) == '6008647277c4454cecd97d33c069f0ca'\n>>> assert get_hash(round(coefficients(0.15, 0.13, 0.1)[1], 3)) == 'e1efa1216f20c79a077a45c36dd0bd32'\n>>> assert get_hash(round(coefficients(2, 1.1, 0.3)[0], 3)) == 'c3e5bc1a469d73f843b6bcb150cd868e'\n>>> assert get_hash(round(coefficients(2, 1.1, 0.3)[1], 3)) == '31ca5cbbaff2e53df4c500d50e94f943'\n>>> assert get_hash(round(coefficients(1.1, 0.075, 0.005)[0], 3)) == '2d22f62e9e38119403851fbf17cb26b1'\n>>> assert get_hash(round(coefficients(1.1, 0.075, 0.005)[1], 3)) == '4e421203259d2f9b4cad729e5ee3bfd1'\n",
         "hidden": false,
         "locked": false,
         "points": 1.5
        }
       ],
       "scored": true,
       "setup": "",
       "teardown": "",
       "type": "doctest"
      }
     ]
    },
    "q5": {
     "name": "q5",
     "points": null,
     "suites": [
      {
       "cases": [
        {
         "code": ">>> assert get_hash(type(q5)) != '14e736438b115821cbb9b7ac0ba79034'\n",
         "failure_message": "Make sure to test your function!",
         "hidden": false,
         "locked": false,
         "points": 0.25
        },
        {
         "code": ">>> assert get_hash(gradation(70, 45, 0.15, 0.13, 0.1).upper()) == '44c29edb103a2872f519ad0c9a0fdaaa'\n>>> assert get_hash(gradation(70, 45, 0.15, 0.11, 0.1).upper()) == '44c29edb103a2872f519ad0c9a0fdaaa'\n>>> assert get_hash(gradation(70, 45, 0.15, 0.14, 0.005).upper()) == '44c29edb103a2872f519ad0c9a0fdaaa'\n>>> assert get_hash(gradation(70, 45, 0.45, 0.3, 0.1).upper()) == '61e9c06ea9a85a5088a499df6458d276'\n>>> assert get_hash(gradation(50, 25, 0.65, 0.3, 0.1).upper()) == '61e9c06ea9a85a5088a499df6458d276'\n>>> assert get_hash(gradation(70, 35, 0.15, 0.13, 0.1).upper()) == '44c29edb103a2872f519ad0c9a0fdaaa'\n>>> assert get_hash(gradation(70, 35, 0.45, 0.3, 0.1).upper()) == '44c29edb103a2872f519ad0c9a0fdaaa'\n>>> assert get_hash(gradation(70, 35, 0.15, 0.11, 0.1).upper()) == '44c29edb103a2872f519ad0c9a0fdaaa'\n>>> assert get_hash(gradation(70, 35, 0.15, 0.14, 0.005).upper()) == '44c29edb103a2872f519ad0c9a0fdaaa'\n>>> assert get_hash(gradation(70, 35, 0.65, 0.3, 0.1).upper()) == '61e9c06ea9a85a5088a499df6458d276'\n",
         "hidden": false,
         "locked": false,
         "points": 1.5
        }
       ],
       "scored": true,
       "setup": "",
       "teardown": "",
       "type": "doctest"
      }
     ]
    },
    "q6": {
     "name": "q6",
     "points": null,
     "suites": [
      {
       "cases": [
        {
         "code": ">>> assert get_hash(type(q6)) != '14e736438b115821cbb9b7ac0ba79034'\n",
         "failure_message": "Make sure to test your function!",
         "hidden": false,
         "locked": false,
         "points": 0.25
        },
        {
         "code": ">>> assert get_hash(plasticity(10).upper()) == 'd20caec3b48a1eef164cb4ca81ba2587'\n>>> assert get_hash(plasticity(30).upper()) == 'd20caec3b48a1eef164cb4ca81ba2587'\n>>> assert get_hash(plasticity(45).upper()) == 'd20caec3b48a1eef164cb4ca81ba2587'\n>>> assert get_hash(plasticity(55).upper()) == 'c1d9f50f86825a1a2302ec2449c17196'\n>>> assert get_hash(plasticity(60).upper()) == 'c1d9f50f86825a1a2302ec2449c17196'\n>>> assert get_hash(plasticity(70).upper()) == 'c1d9f50f86825a1a2302ec2449c17196'\n",
         "hidden": false,
         "locked": false,
         "points": 1.5
        }
       ],
       "scored": true,
       "setup": "",
       "teardown": "",
       "type": "doctest"
      }
     ]
    },
    "q7": {
     "name": "q7",
     "points": null,
     "suites": [
      {
       "cases": [
        {
         "code": ">>> assert get_hash(type(q7)) != '14e736438b115821cbb9b7ac0ba79034'\n",
         "failure_message": "Make sure to test your function!",
         "hidden": false,
         "locked": false,
         "points": 0.25
        },
        {
         "code": ">>> assert get_hash(silt_or_clay(55, 25).upper()) == '0d61f8370cad1d412f80b84d143e1257'\n>>> assert get_hash(silt_or_clay(75, 25).upper()) == '0d61f8370cad1d412f80b84d143e1257'\n>>> assert get_hash(silt_or_clay(30, 20).upper()) == '0d61f8370cad1d412f80b84d143e1257'\n>>> assert get_hash(silt_or_clay(60, 30.7).upper()) == '0d61f8370cad1d412f80b84d143e1257'\n>>> assert get_hash(silt_or_clay(55, 45).upper()) == '69691c7bdcc3ce6d5d8a1361f22d04ac'\n>>> assert get_hash(silt_or_clay(75, 45).upper()) == '69691c7bdcc3ce6d5d8a1361f22d04ac'\n>>> assert get_hash(silt_or_clay(30, 25).upper()) == '69691c7bdcc3ce6d5d8a1361f22d04ac'\n>>> assert get_hash(silt_or_clay(60, 30.9).upper()) == '69691c7bdcc3ce6d5d8a1361f22d04ac'\n",
         "hidden": false,
         "locked": false,
         "points": 1.5
        },
        {
         "code": ">>> assert get_hash(silt_or_clay(20, 10).upper()) == '0d61f8370cad1d412f80b84d143e1257'\n>>> assert get_hash(silt_or_clay(10, 7).upper()) == '69691c7bdcc3ce6d5d8a1361f22d04ac'\n>>> assert get_hash(silt_or_clay(20, 17).upper()) == '69691c7bdcc3ce6d5d8a1361f22d04ac'\n",
         "hidden": false,
         "locked": false,
         "points": 1.5
        },
        {
         "code": ">>> assert get_hash(silt_or_clay(60, 30.8).upper()) == '0d61f8370cad1d412f80b84d143e1257'\n",
         "failure_message": "If soil falls exactly on the \"A\"-line, is it clay or silt?",
         "hidden": false,
         "locked": false,
         "points": 1
        }
       ],
       "scored": true,
       "setup": "",
       "teardown": "",
       "type": "doctest"
      }
     ]
    },
    "q8": {
     "name": "q8",
     "points": null,
     "suites": [
      {
       "cases": [
        {
         "code": ">>> assert get_hash(type(q8)) != '14e736438b115821cbb9b7ac0ba79034'\n",
         "failure_message": "Make sure to test your function!",
         "hidden": false,
         "locked": false,
         "points": 0.25
        },
        {
         "code": ">>> assert get_hash(classify_fine(55, 25).upper()) == '1ee0bf89c5d1032317d13a2e022793c8'\n>>> assert get_hash(classify_fine(75, 25).upper()) == '1ee0bf89c5d1032317d13a2e022793c8'\n>>> assert get_hash(classify_fine(30, 20).upper()) == '5bc574a47246f122016869b32a6aa6f0'\n>>> assert get_hash(classify_fine(60, 30.7).upper()) == '1ee0bf89c5d1032317d13a2e022793c8'\n>>> assert get_hash(classify_fine(55, 45).upper()) == '002f27e5064e874ecf4f5def17d1b797'\n>>> assert get_hash(classify_fine(75, 45).upper()) == '002f27e5064e874ecf4f5def17d1b797'\n>>> assert get_hash(classify_fine(30, 25).upper()) == 'd01fd9b01e9dde8bd3dc247afbfb7218'\n>>> assert get_hash(classify_fine(60, 30.9).upper()) == '002f27e5064e874ecf4f5def17d1b797'\n",
         "hidden": false,
         "locked": false,
         "points": 1.5
        },
        {
         "code": ">>> assert get_hash(classify_fine(20, 10).upper()) == '5bc574a47246f122016869b32a6aa6f0'\n>>> assert get_hash(classify_fine(10, 7).upper()) == 'd01fd9b01e9dde8bd3dc247afbfb7218'\n>>> assert get_hash(classify_fine(20, 17).upper()) == 'd01fd9b01e9dde8bd3dc247afbfb7218'\n",
         "hidden": false,
         "locked": false,
         "points": 1.5
        },
        {
         "code": ">>> assert get_hash(classify_fine(10, 5).upper()) == '6ee58e48c2cb2ff01807ccca4667e070'\n>>> assert get_hash(classify_fine(20, 14).upper()) == '6ee58e48c2cb2ff01807ccca4667e070'\n>>> assert get_hash(classify_fine(26, 20).upper()) == '6ee58e48c2cb2ff01807ccca4667e070'\n",
         "hidden": false,
         "locked": false,
         "points": 1
        }
       ],
       "scored": true,
       "setup": "",
       "teardown": "",
       "type": "doctest"
      }
     ]
    },
    "q9": {
     "name": "q9",
     "points": null,
     "suites": [
      {
       "cases": [
        {
         "code": ">>> assert get_hash(type(q9)) != '14e736438b115821cbb9b7ac0ba79034'\n",
         "failure_message": "Make sure to test your function!",
         "hidden": false,
         "locked": false,
         "points": 0.25
        },
        {
         "code": ">>> assert classify_gravel(40, 4, 0.3, 0.14, 0.025, 0, 0).upper() == 'GW'\n>>> assert classify_gravel(40, 4, 0.15, 0.13, 0.1, 0, 0).upper() == 'GP'\n>>> assert classify_gravel(40, 10, 0.3, 0.14, 0.025, 30, 25).upper() == 'GW-GM'\n>>> assert classify_gravel(40, 10, 0.3, 0.14, 0.025, 30, 15).upper() == 'GW-GC'\n>>> assert classify_gravel(40, 10, 0.15, 0.13, 0.1, 30, 25).upper() == 'GP-GM'\n>>> assert classify_gravel(40, 10, 0.15, 0.13, 0.1, 30, 15).upper() == 'GP-GC'\n>>> assert classify_gravel(40, 20, 0.15, 0.13, 0.1, 30, 25).upper() == 'GM'\n>>> assert classify_gravel(40, 20, 0.15, 0.13, 0.1, 30, 15).upper() == 'GC'\n>>> assert classify_gravel(40, 20, 0.15, 0.13, 0.1, 25, 20).upper() == 'GC-GM'\n",
         "hidden": false,
         "locked": false,
         "points": 1.5
        },
        {
         "code": ">>> assert get_hash(classify_gravel(50, 1, 2, 1.1, 0.3, 0, 0).upper()) == 'c17d19f7520be36addbeb5d2c76ab7cf'\n>>> assert get_hash(classify_gravel(50, 1, 2, 1.5, 0.3, 0, 0).upper()) == 'ad2d8ee7d788dcf41f399818f639cb64'\n>>> assert get_hash(classify_gravel(50, 6, 0.45, 0.25, 0.1, 60, 40).upper()) == 'c31f61bf166e30ec55828503fad107d4'\n>>> assert get_hash(classify_gravel(50, 6, 0.45, 0.25, 0.1, 60, 30).upper()) == 'acb50b1138e657e40d297035097d0bf1'\n>>> assert get_hash(classify_gravel(50, 6, 0.45, 0.2, 0.1, 60, 40).upper()) == '03f9d3f62bd6324143e47935f642177a'\n>>> assert get_hash(classify_gravel(50, 6, 0.45, 0.2, 0.1, 60, 30).upper()) == 'f9bb4d123b6b669ac79bd9465d619d00'\n>>> assert get_hash(classify_gravel(50, 13, 0.15, 0.13, 0.1, 20, 17).upper()) == '64f3bd1741ab8d6ba545a1ae09bb8728'\n>>> assert get_hash(classify_gravel(50, 13, 0.15, 0.13, 0.1, 55, 25).upper()) == '7359c3eb5c57547295a76ac1bf775b29'\n>>> assert get_hash(classify_gravel(50, 13, 0.15, 0.13, 0.1, 10, 4).upper()) == '58a3dd33c44967a9f632495eaf1b41b0'\n",
         "hidden": false,
         "locked": false,
         "points": 1.5
        }
       ],
       "scored": true,
       "setup": "",
       "teardown": "",
       "type": "doctest"
      }
     ]
    }
   }
  },
  "widgets": {
   "application/vnd.jupyter.widget-state+json": {
    "state": {},
    "version_major": 2,
    "version_minor": 0
   }
  }
 },
 "nbformat": 4,
 "nbformat_minor": 5
}
